{
 "cells": [
  {
   "cell_type": "code",
   "execution_count": 1,
   "metadata": {},
   "outputs": [],
   "source": [
    "import pandas as pd\n",
    "import numpy as np\n",
    "import matplotlib.pyplot as plt"
   ]
  },
  {
   "cell_type": "code",
   "execution_count": 2,
   "metadata": {},
   "outputs": [],
   "source": [
    "df=pd.read_csv('data/train.csv')"
   ]
  },
  {
   "cell_type": "code",
   "execution_count": 3,
   "metadata": {},
   "outputs": [],
   "source": [
    "df_train = pd.DataFrame(columns=['trainNo','lineName', 'date', 'stopStation', 'firstDelay','planArrival', 'delayTime'])\n",
    "for name,data in df.groupby(['trainNo','date','directionCode']):\n",
    "    stopStation,delayTime,planArrival =[],[],[]\n",
    "    before_delay=0\n",
    "    for _,rows in data.iterrows():\n",
    "        planArrival.append(rows['planArrival'])\n",
    "        delayTime.append(rows['delayTime']-before_delay)\n",
    "        before_delay=rows['delayTime']\n",
    "        stopStation.append(rows['stopStation'])\n",
    "    df_train = df_train.append([{'trainNo': rows['trainNo'],\n",
    "                             'lineName':  rows['lineName'],\n",
    "                             'date': data['date'][data.index[0]],\n",
    "                            'firstDelay':data['delayTime'][data.index[0]],\n",
    "                             'stopStation': stopStation,\n",
    "                             'planArrival': planArrival,\n",
    "                             'delayTime': delayTime,\n",
    "                             }], ignore_index=True)"
   ]
  },
  {
   "cell_type": "code",
   "execution_count": 4,
   "metadata": {},
   "outputs": [],
   "source": [
    "df_train.to_csv('data/df_train.csv')"
   ]
  },
  {
   "cell_type": "code",
   "execution_count": 5,
   "metadata": {},
   "outputs": [],
   "source": [
    "df=pd.read_csv('data/test.csv')"
   ]
  },
  {
   "cell_type": "code",
   "execution_count": 6,
   "metadata": {},
   "outputs": [],
   "source": [
    "df_test = pd.DataFrame(columns=['trainNo','lineName', 'date', 'stopStation', 'firstDelay','planArrival', 'delayTime','target','predict_len'])\n",
    "for name,data in df.groupby(['trainNo','date','directionCode']):\n",
    "    stopStation,delayTime,planArrival,target =[],[],[],[]\n",
    "    before_delay=0\n",
    "    for _,rows in data.iterrows():\n",
    "        planArrival.append(rows['planArrival'])\n",
    "        if rows['delayTime']==None:\n",
    "            delayTime.append(0)\n",
    "        else:\n",
    "            delayTime.append(rows['delayTime']-before_delay)\n",
    "            before_delay=rows['delayTime']\n",
    "        stopStation.append(rows['stopStation'])\n",
    "        target.append(rows['target'])\n",
    "    df_test = df_test.append([{'trainNo': rows['trainNo'],\n",
    "                             'lineName':  rows['lineName'],\n",
    "                             'date': data['date'][data.index[0]],\n",
    "                            'firstDelay':data['delayTime'][data.index[0]],\n",
    "                             'stopStation': stopStation,\n",
    "                             'planArrival': planArrival,\n",
    "                             'delayTime': delayTime,\n",
    "                             'target':target,\n",
    "                             'predict_len':sum(target)\n",
    "                             }], ignore_index=True)"
   ]
  },
  {
   "cell_type": "code",
   "execution_count": 7,
   "metadata": {},
   "outputs": [],
   "source": [
    "df_test.to_csv('data/df_test.csv')"
   ]
  },
  {
   "cell_type": "code",
   "execution_count": 8,
   "metadata": {},
   "outputs": [],
   "source": [
    "df_test=pd.read_csv('data/df_test.csv')"
   ]
  },
  {
   "cell_type": "code",
   "execution_count": 9,
   "metadata": {},
   "outputs": [
    {
     "data": {
      "text/plain": [
       "([], [])"
      ]
     },
     "execution_count": 9,
     "metadata": {},
     "output_type": "execute_result"
    },
    {
     "data": {
      "image/png": "[encoded data removed]",
      "text/plain": [
       "<Figure size 1440x576 with 1 Axes>"
      ]
     },
     "metadata": {
      "needs_background": "light"
     },
     "output_type": "display_data"
    }
   ],
   "source": [
    "plt.subplots(figsize=(20,8))\n",
    "df_test['predict_len'].value_counts().plot(kind='bar')\n",
    "plt.xticks([])"
   ]
  },
  {
   "cell_type": "code",
   "execution_count": null,
   "metadata": {},
   "outputs": [],
   "source": []
  }
 ],
 "metadata": {
  "kernelspec": {
   "display_name": "Python 3",
   "language": "python",
   "name": "python3"
  },
  "language_info": {
   "codemirror_mode": {
    "name": "ipython",
    "version": 3
   },
   "file_extension": ".py",
   "mimetype": "text/x-python",
   "name": "python",
   "nbconvert_exporter": "python",
   "pygments_lexer": "ipython3",
   "version": "3.7.6"
  }
 },
 "nbformat": 4,
 "nbformat_minor": 4
}
