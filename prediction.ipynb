{
 "cells": [
  {
   "cell_type": "code",
   "execution_count": 1,
   "metadata": {},
   "outputs": [],
   "source": [
    "import pandas as pd\n",
    "import numpy as np\n",
    "import matplotlib.pyplot as plt\n",
    "import seaborn as sns"
   ]
  },
  {
   "cell_type": "code",
   "execution_count": 2,
   "metadata": {},
   "outputs": [],
   "source": [
    "df_train=pd.read_csv('data/df_train.csv')"
   ]
  },
  {
   "cell_type": "code",
   "execution_count": 3,
   "metadata": {},
   "outputs": [],
   "source": [
    "df_train['delayTime'] = df_train['delayTime'].map(lambda x: eval(x))"
   ]
  },
  {
   "cell_type": "code",
   "execution_count": 4,
   "metadata": {},
   "outputs": [],
   "source": [
    "df_train['delay_len'] = df_train['delayTime'].map(lambda x: len(x))"
   ]
  },
  {
   "cell_type": "code",
   "execution_count": 5,
   "metadata": {},
   "outputs": [
    {
     "data": {
      "text/plain": [
       "20.515687652432725"
      ]
     },
     "execution_count": 5,
     "metadata": {},
     "output_type": "execute_result"
    }
   ],
   "source": [
    "sum(df_train['delay_len'].values)/df_train.shape[0]"
   ]
  },
  {
   "cell_type": "code",
   "execution_count": 6,
   "metadata": {},
   "outputs": [],
   "source": [
    "delayTime_len=[]\n",
    "for rows in df_train.delayTime:\n",
    "    delayTime_len.append(len(rows))"
   ]
  },
  {
   "cell_type": "code",
   "execution_count": 7,
   "metadata": {},
   "outputs": [
    {
     "data": {
      "text/plain": [
       "20.515687652432725"
      ]
     },
     "execution_count": 7,
     "metadata": {},
     "output_type": "execute_result"
    }
   ],
   "source": [
    "sum(delayTime_len)/len(delayTime_len)"
   ]
  },
  {
   "cell_type": "code",
   "execution_count": 8,
   "metadata": {},
   "outputs": [],
   "source": [
    "df_test=pd.read_csv('data/df_test.csv')"
   ]
  },
  {
   "cell_type": "code",
   "execution_count": 9,
   "metadata": {},
   "outputs": [],
   "source": [
    "df_test=df_test.drop(['Unnamed: 0'],axis=1)"
   ]
  },
  {
   "cell_type": "code",
   "execution_count": 10,
   "metadata": {},
   "outputs": [
    {
     "data": {
      "text/plain": [
       "<AxesSubplot:>"
      ]
     },
     "execution_count": 10,
     "metadata": {},
     "output_type": "execute_result"
    },
    {
     "data": {
      "image/png": "[encoded data removed]",
      "text/plain": [
       "<Figure size 432x288 with 1 Axes>"
      ]
     },
     "metadata": {
      "needs_background": "light"
     },
     "output_type": "display_data"
    }
   ],
   "source": [
    "df_test.predict_len.value_counts()[1:].plot(kind='bar')"
   ]
  },
  {
   "cell_type": "code",
   "execution_count": 11,
   "metadata": {},
   "outputs": [
    {
     "data": {
      "text/plain": [
       "0.0     61015\n",
       "1.0      3270\n",
       "2.0      1964\n",
       "3.0      1307\n",
       "4.0       983\n",
       "        ...  \n",
       "97.0        1\n",
       "75.0        1\n",
       "44.0        1\n",
       "95.0        1\n",
       "78.0        1\n",
       "Name: firstDelay, Length: 69, dtype: int64"
      ]
     },
     "execution_count": 11,
     "metadata": {},
     "output_type": "execute_result"
    }
   ],
   "source": [
    "df_train.firstDelay.value_counts()"
   ]
  },
  {
   "cell_type": "code",
   "execution_count": 12,
   "metadata": {},
   "outputs": [],
   "source": [
    "i=0\n",
    "delaytime=[]\n",
    "for values in df_train.delayTime.values:\n",
    "    for x in range(len(values)):\n",
    "        if values[x]>9:\n",
    "            values[x]=0\n",
    "            break\n",
    "    delaytime.append(values)\n",
    "df_train.delayTime=delaytime"
   ]
  },
  {
   "cell_type": "code",
   "execution_count": 13,
   "metadata": {},
   "outputs": [
    {
     "data": {
      "text/plain": [
       "array([0, 1, 2, 3, 4, 5, 6, 7, 8, 9])"
      ]
     },
     "execution_count": 13,
     "metadata": {},
     "output_type": "execute_result"
    }
   ],
   "source": [
    "a=np.arange(15)\n",
    "a[:10]"
   ]
  },
  {
   "cell_type": "code",
   "execution_count": 31,
   "metadata": {},
   "outputs": [],
   "source": [
    "train_length=10\n",
    "output_length=10\n",
    "train_x=[]\n",
    "train_y=[]\n",
    "for values in df_train.delayTime.values:\n",
    "    if len(values)>=(train_length+output_length):\n",
    "        for i in range(len(values)-(train_length+output_length)+1):\n",
    "            train_x.append(np.array(values[i:i+train_length]).reshape(1,-1))#输入\n",
    "            train_y.append(np.array(values[i+train_length:i+train_length+output_length]).reshape(1,-1)) #真值"
   ]
  },
  {
   "cell_type": "code",
   "execution_count": 15,
   "metadata": {},
   "outputs": [
    {
     "data": {
      "text/plain": [
       "(1, 10)"
      ]
     },
     "execution_count": 15,
     "metadata": {},
     "output_type": "execute_result"
    }
   ],
   "source": [
    "train_x[0].shape"
   ]
  },
  {
   "cell_type": "code",
   "execution_count": 32,
   "metadata": {},
   "outputs": [],
   "source": [
    "train_x=np.concatenate(train_x,axis=0)[:,np.newaxis][:100000]\n",
    "train_y=np.concatenate(train_y,axis=0)[:100000]"
   ]
  },
  {
   "cell_type": "code",
   "execution_count": 33,
   "metadata": {},
   "outputs": [
    {
     "data": {
      "text/plain": [
       "(100000, 1, 10)"
      ]
     },
     "execution_count": 33,
     "metadata": {},
     "output_type": "execute_result"
    }
   ],
   "source": [
    "train_x.shape"
   ]
  },
  {
   "cell_type": "code",
   "execution_count": 34,
   "metadata": {},
   "outputs": [
    {
     "data": {
      "text/plain": [
       "(100000, 10)"
      ]
     },
     "execution_count": 34,
     "metadata": {},
     "output_type": "execute_result"
    }
   ],
   "source": [
    "train_y.shape"
   ]
  },
  {
   "cell_type": "code",
   "execution_count": 19,
   "metadata": {},
   "outputs": [
    {
     "name": "stdout",
     "output_type": "stream",
     "text": [
      "[PhysicalDevice(name='/physical_device:GPU:0', device_type='GPU')]\n"
     ]
    }
   ],
   "source": [
    "import tensorflow as tf\n",
    "# 设置gpu内存自增长\n",
    "gpus = tf.config.experimental.list_physical_devices('GPU')\n",
    "print(gpus)\n",
    "for gpu in gpus:\n",
    "    tf.config.experimental.set_memory_growth(gpu, True)"
   ]
  },
  {
   "cell_type": "code",
   "execution_count": 20,
   "metadata": {},
   "outputs": [],
   "source": [
    "import numpy as np\n",
    "from keras import layers\n",
    "import keras"
   ]
  },
  {
   "cell_type": "code",
   "execution_count": 36,
   "metadata": {},
   "outputs": [
    {
     "name": "stdout",
     "output_type": "stream",
     "text": [
      "Model: \"functional_11\"\n",
      "_________________________________________________________________\n",
      "Layer (type)                 Output Shape              Param #   \n",
      "=================================================================\n",
      "input_6 (InputLayer)         [(None, 1, 10)]           0         \n",
      "_________________________________________________________________\n",
      "lstm_24 (LSTM)               (None, 1, 128)            71168     \n",
      "_________________________________________________________________\n",
      "lstm_25 (LSTM)               (None, 1, 128)            131584    \n",
      "_________________________________________________________________\n",
      "bidirectional_14 (Bidirectio (None, 1, 256)            263168    \n",
      "_________________________________________________________________\n",
      "bidirectional_15 (Bidirectio (None, 1, 256)            394240    \n",
      "_________________________________________________________________\n",
      "bidirectional_16 (Bidirectio (None, 1, 256)            394240    \n",
      "_________________________________________________________________\n",
      "bidirectional_17 (Bidirectio (None, 256)               394240    \n",
      "_________________________________________________________________\n",
      "dense_5 (Dense)              (None, 10)                2570      \n",
      "=================================================================\n",
      "Total params: 1,651,210\n",
      "Trainable params: 1,651,210\n",
      "Non-trainable params: 0\n",
      "_________________________________________________________________\n"
     ]
    }
   ],
   "source": [
    "# Input for variable-length sequences of integers\n",
    "inputs = keras.Input(shape=(1,10), dtype=\"float\")\n",
    "# Add 2 bidirectional LSTMs\n",
    "x = layers.LSTM(128, return_sequences=True)(inputs)\n",
    "x = layers.LSTM(128, return_sequences=True)(x)\n",
    "x = layers.Bidirectional(layers.LSTM(128, return_sequences=True))(x)\n",
    "x = layers.Bidirectional(layers.LSTM(128, return_sequences=True))(x)\n",
    "x = layers.Bidirectional(layers.LSTM(128, return_sequences=True))(x)\n",
    "x = layers.Bidirectional(layers.LSTM(128))(x)\n",
    "# Add a classifier\n",
    "outputs = layers.Dense(10, activation=\"sigmoid\")(x)\n",
    "model = keras.Model(inputs, outputs)\n",
    "model.summary()"
   ]
  },
  {
   "cell_type": "code",
   "execution_count": 40,
   "metadata": {
    "scrolled": true
   },
   "outputs": [
    {
     "name": "stdout",
     "output_type": "stream",
     "text": [
      "Epoch 1/100\n",
      "800/800 [==============================] - 9s 11ms/step - loss: 0.3617 - val_loss: 0.3456\n",
      "Epoch 2/100\n",
      "800/800 [==============================] - 7s 8ms/step - loss: 0.3618 - val_loss: 0.3458\n",
      "Epoch 3/100\n",
      "800/800 [==============================] - 7s 8ms/step - loss: 0.3620 - val_loss: 0.3457\n",
      "Epoch 4/100\n",
      "800/800 [==============================] - 7s 8ms/step - loss: 0.3618 - val_loss: 0.3455\n",
      "Epoch 5/100\n",
      "800/800 [==============================] - 7s 8ms/step - loss: 0.3616 - val_loss: 0.3455\n",
      "Epoch 6/100\n",
      "800/800 [==============================] - 7s 8ms/step - loss: 0.3615 - val_loss: 0.3456\n",
      "Epoch 7/100\n",
      "800/800 [==============================] - 7s 8ms/step - loss: 0.3616 - val_loss: 0.3454\n",
      "Epoch 8/100\n",
      "800/800 [==============================] - 7s 8ms/step - loss: 0.3615 - val_loss: 0.3453\n",
      "Epoch 9/100\n",
      "800/800 [==============================] - 7s 8ms/step - loss: 0.3614 - val_loss: 0.3451\n",
      "Epoch 10/100\n",
      "800/800 [==============================] - 7s 9ms/step - loss: 0.3614 - val_loss: 0.3454\n",
      "Epoch 11/100\n",
      "800/800 [==============================] - 7s 8ms/step - loss: 0.3613 - val_loss: 0.3452\n",
      "Epoch 12/100\n",
      "800/800 [==============================] - 7s 8ms/step - loss: 0.3613 - val_loss: 0.3452\n",
      "Epoch 13/100\n",
      "800/800 [==============================] - 7s 8ms/step - loss: 0.3611 - val_loss: 0.3451\n",
      "Epoch 14/100\n",
      "800/800 [==============================] - 7s 9ms/step - loss: 0.3610 - val_loss: 0.3450\n",
      "Epoch 15/100\n",
      "800/800 [==============================] - 7s 9ms/step - loss: 0.3611 - val_loss: 0.3452\n",
      "Epoch 16/100\n",
      "800/800 [==============================] - 8s 10ms/step - loss: 0.3610 - val_loss: 0.3452\n",
      "Epoch 17/100\n",
      "800/800 [==============================] - 7s 8ms/step - loss: 0.3610 - val_loss: 0.3450\n",
      "Epoch 18/100\n",
      "800/800 [==============================] - 7s 9ms/step - loss: 0.3609 - val_loss: 0.3448\n",
      "Epoch 19/100\n",
      "800/800 [==============================] - 7s 9ms/step - loss: 0.3611 - val_loss: 0.3448\n",
      "Epoch 20/100\n",
      "800/800 [==============================] - 7s 9ms/step - loss: 0.3608 - val_loss: 0.3449\n",
      "Epoch 21/100\n",
      "800/800 [==============================] - 7s 9ms/step - loss: 0.3607 - val_loss: 0.3449\n",
      "Epoch 22/100\n",
      "800/800 [==============================] - 7s 9ms/step - loss: 0.3608 - val_loss: 0.3446\n",
      "Epoch 23/100\n",
      "800/800 [==============================] - 7s 8ms/step - loss: 0.3607 - val_loss: 0.3447\n",
      "Epoch 24/100\n",
      "800/800 [==============================] - 7s 9ms/step - loss: 0.3605 - val_loss: 0.3445\n",
      "Epoch 25/100\n",
      "800/800 [==============================] - 7s 8ms/step - loss: 0.3605 - val_loss: 0.3447\n",
      "Epoch 26/100\n",
      "800/800 [==============================] - 7s 9ms/step - loss: 0.3603 - val_loss: 0.3445\n",
      "Epoch 27/100\n",
      "800/800 [==============================] - 7s 8ms/step - loss: 0.3601 - val_loss: 0.3445\n",
      "Epoch 28/100\n",
      "800/800 [==============================] - 7s 8ms/step - loss: 0.3602 - val_loss: 0.3445\n",
      "Epoch 29/100\n",
      "800/800 [==============================] - 7s 8ms/step - loss: 0.3600 - val_loss: 0.3446\n",
      "Epoch 30/100\n",
      "800/800 [==============================] - 7s 9ms/step - loss: 0.3601 - val_loss: 0.3442\n",
      "Epoch 31/100\n",
      "800/800 [==============================] - 7s 8ms/step - loss: 0.3601 - val_loss: 0.3440\n",
      "Epoch 32/100\n",
      "800/800 [==============================] - 7s 8ms/step - loss: 0.3601 - val_loss: 0.3441\n",
      "Epoch 33/100\n",
      "800/800 [==============================] - 7s 8ms/step - loss: 0.3598 - val_loss: 0.3444\n",
      "Epoch 34/100\n",
      "800/800 [==============================] - 7s 9ms/step - loss: 0.3602 - val_loss: 0.3443\n",
      "Epoch 35/100\n",
      "800/800 [==============================] - 7s 8ms/step - loss: 0.3600 - val_loss: 0.3443\n",
      "Epoch 36/100\n",
      "800/800 [==============================] - 7s 8ms/step - loss: 0.3599 - val_loss: 0.3441\n",
      "Epoch 00036: early stopping\n"
     ]
    },
    {
     "data": {
      "text/plain": [
       "<tensorflow.python.keras.callbacks.History at 0x13bbbf670c8>"
      ]
     },
     "execution_count": 40,
     "metadata": {},
     "output_type": "execute_result"
    }
   ],
   "source": [
    "from sklearn.model_selection import train_test_split\n",
    "model.compile(\"adam\", loss='mean_squared_error')\n",
    "X_train, X_test, y_train, y_test =train_test_split(train_x,train_y,test_size=0.2)\n",
    "EarlyStopping=keras.callbacks.EarlyStopping(monitor='val_loss', min_delta=0, patience=5, verbose=1,\\\n",
    "                                            mode='auto', baseline=None, restore_best_weights=True)\n",
    "model.fit(X_train, y_train, batch_size=100, epochs=100, validation_data=(X_test, y_test),callbacks=[EarlyStopping])"
   ]
  },
  {
   "cell_type": "code",
   "execution_count": 41,
   "metadata": {},
   "outputs": [],
   "source": [
    "model.save_weights('model/Sequential_model.pkl')"
   ]
  }
 ],
 "metadata": {
  "kernelspec": {
   "display_name": "Python 3",
   "language": "python",
   "name": "python3"
  },
  "language_info": {
   "codemirror_mode": {
    "name": "ipython",
    "version": 3
   },
   "file_extension": ".py",
   "mimetype": "text/x-python",
   "name": "python",
   "nbconvert_exporter": "python",
   "pygments_lexer": "ipython3",
   "version": "3.7.6"
  }
 },
 "nbformat": 4,
 "nbformat_minor": 4
}
